{
 "cells": [
  {
   "cell_type": "code",
   "execution_count": 1,
   "metadata": {},
   "outputs": [],
   "source": [
    "import matplotlib.pyplot as plt\n",
    "import os\n",
    "import pandas as pd\n",
    "import numpy as np\n",
    "\n",
    "import sleep_study as ss\n",
    "import matplotlib as mpl\n",
    "import matplotlib.pyplot as plt\n",
    "import matplotlib.patches as mpatches"
   ]
  },
  {
   "cell_type": "code",
   "execution_count": 2,
   "metadata": {},
   "outputs": [],
   "source": [
    "plt.rc('font', **{'family': 'serif', 'serif': ['Computer Modern'], 'size': 30})\n",
    "plt.rc('text', usetex=True)"
   ]
  },
  {
   "cell_type": "code",
   "execution_count": 3,
   "metadata": {},
   "outputs": [
    {
     "name": "stdout",
     "output_type": "stream",
     "text": [
      "age information stored in /home/harlinl/sleep_study_harlin/age_file.csv\n"
     ]
    }
   ],
   "source": [
    "ss.init()"
   ]
  },
  {
   "cell_type": "code",
   "execution_count": 4,
   "metadata": {},
   "outputs": [
    {
     "name": "stdout",
     "output_type": "stream",
     "text": [
      "There are 3984 sleep studies in this dataset\n",
      "Representing 3673 unique patients\n",
      "There are 3400 patients with 1 sleep study\n",
      "There are 238 patients with 2 sleep studies\n",
      "There are 35 patients with more than two sleep studies, with 5 being the largest number of sleep studies for any one patient\n"
     ]
    }
   ],
   "source": [
    "# stats for number of sleep studies\n",
    "\n",
    "df = ss.info.load_health_info('SLEEP_STUDY.csv')\n",
    "print(\"There are {} sleep studies in this dataset\".format(len(df)))\n",
    "vcs = df['STUDY_PAT_ID'].value_counts()\n",
    "vcs = vcs.sort_values()\n",
    "print(\"Representing {} unique patients\".format(len(vcs)))\n",
    "one_vcs = vcs[vcs == 1]\n",
    "print(\"There are {} patients with 1 sleep study\".format(len(one_vcs)))\n",
    "two_vcs = vcs[vcs == 2]\n",
    "print(\"There are {} patients with 2 sleep studies\".format(len(two_vcs)))\n",
    "more_vcs = vcs[vcs > 2]\n",
    "print(\"There are {} patients with more than two sleep studies, \"\n",
    "          \"with {} being the largest number of sleep studies for any one patient\".format(len(more_vcs), max(vcs)))"
   ]
  },
  {
   "cell_type": "code",
   "execution_count": 5,
   "metadata": {},
   "outputs": [
    {
     "name": "stdout",
     "output_type": "stream",
     "text": [
      "Here is the gender breakdown: \n",
      "Male       2068\n",
      "Female     1604\n",
      "Unknown       1\n",
      "Name: GENDER_DESCR, dtype: int64\n"
     ]
    }
   ],
   "source": [
    "# stats for gender\n",
    "\n",
    "df = ss.info.load_health_info('DEMOGRAPHIC.csv')\n",
    "df.drop_duplicates(subset=['STUDY_PAT_ID', 'GENDER_DESCR'], inplace=True)\n",
    "vcs = df['GENDER_DESCR'].value_counts()\n",
    "print(\"Here is the gender breakdown: \")\n",
    "print(vcs)"
   ]
  },
  {
   "cell_type": "code",
   "execution_count": 6,
   "metadata": {},
   "outputs": [
    {
     "name": "stdout",
     "output_type": "stream",
     "text": [
      "Here is the race breakdown: \n",
      "White                                        2433\n",
      "Black or African American                     738\n",
      "Multiple race                                 277\n",
      "Unknown                                       115\n",
      "Asian                                          93\n",
      "Refuse to answer                                9\n",
      "Native Hawaiian or Other Pacific Islander       5\n",
      "American Indian or Alaska Native                3\n",
      "Name: RACE_DESCR, dtype: int64\n"
     ]
    }
   ],
   "source": [
    "# stats for race\n",
    "\n",
    "df = ss.info.load_health_info('DEMOGRAPHIC.csv')\n",
    "df.drop_duplicates(subset=['STUDY_PAT_ID', 'RACE_DESCR'], inplace=True)\n",
    "vcs = df['RACE_DESCR'].value_counts()\n",
    "print(\"Here is the race breakdown: \")\n",
    "print(vcs)"
   ]
  },
  {
   "cell_type": "code",
   "execution_count": 7,
   "metadata": {},
   "outputs": [
    {
     "name": "stdout",
     "output_type": "stream",
     "text": [
      "Here is the ethnicity breakdown: \n",
      "Not Hispanic or Latino    3446\n",
      "Hispanic or Latino         186\n",
      "Other                       23\n",
      "Unknown                     15\n",
      "No information               3\n",
      "Name: ETHNICITY_DESCR, dtype: int64\n"
     ]
    }
   ],
   "source": [
    "# stats for ethnicity\n",
    "\n",
    "df = ss.info.load_health_info('DEMOGRAPHIC.csv')\n",
    "df.drop_duplicates(subset=['STUDY_PAT_ID', 'ETHNICITY_DESCR'], inplace=True)\n",
    "vcs = df['ETHNICITY_DESCR'].value_counts()\n",
    "print(\"Here is the ethnicity breakdown: \")\n",
    "print(vcs)"
   ]
  },
  {
   "cell_type": "code",
   "execution_count": 8,
   "metadata": {},
   "outputs": [
    {
     "name": "stdout",
     "output_type": "stream",
     "text": [
      "There are 2414 patients who are less than 10\n",
      "There are 20 patients who are more than 30\n",
      "The youngest patient at the time of the sleep study was 6 days old\n",
      "The oldest patient at the time of the sleep study was 58.391780821917806\n"
     ]
    },
    {
     "data": {
      "image/png": "[encoded data removed]",
      "text/plain": [
       "<Figure size 1080x1080 with 1 Axes>"
      ]
     },
     "metadata": {
      "needs_background": "light"
     },
     "output_type": "display_data"
    }
   ],
   "source": [
    "# stats for age at sleep study\n",
    "\n",
    "df = ss.info.load_health_info('SLEEP_STUDY.csv')\n",
    "\n",
    "age_at_study = list(df['AGE_AT_SLEEP_STUDY_DAYS'])\n",
    "print(\"There are {} patients who are less than {}\".format(len(df[df['AGE_AT_SLEEP_STUDY_DAYS'] < (10*365)]), 10))\n",
    "print(\"There are {} patients who are more than {}\".format(len(df[df['AGE_AT_SLEEP_STUDY_DAYS'] > (30*365)]), 30))\n",
    "print(\"The youngest patient at the time of the sleep study was {} days old\".format(min(age_at_study)))\n",
    "ages = [age/365 for age in age_at_study]\n",
    "print(\"The oldest patient at the time of the sleep study was {}\".format(max(ages)))\n",
    "plt.figure(figsize=(15,15))\n",
    "\n",
    "plt.hist(ages, bins=range(31), color='grey', edgecolor='black')\n",
    "plt.xlabel('Age at time of sleep study (years)')\n",
    "plt.ylabel('Number of sleep studies')\n",
    "plt.savefig('age_dist.pdf', bbox_inches = 'tight', pad_inches = 0)\n",
    "plt.show()"
   ]
  },
  {
   "cell_type": "markdown",
   "metadata": {},
   "source": [
    "# Length of care at NCH before and after first sleep study"
   ]
  },
  {
   "cell_type": "code",
   "execution_count": 9,
   "metadata": {},
   "outputs": [],
   "source": [
    "def get_first_study():\n",
    "    \n",
    "    fs_time = {'STUDY_PAT_ID': [], 'FIRST_SLEEP_STUDY_DATETIME': []}\n",
    "    sleep_df = ss.info.load_health_info('SLEEP_STUDY.csv')\n",
    "    \n",
    "    for i, pat_id in enumerate(list(set(sleep_df['STUDY_PAT_ID']))):\n",
    "        pat_ss = sleep_df[sleep_df['STUDY_PAT_ID']==pat_id]\n",
    "        pat_ss = pd.to_datetime(pat_ss['SLEEP_STUDY_START_DATETIME'])\n",
    "        fs_time['STUDY_PAT_ID'].append(pat_id)\n",
    "        fs_time['FIRST_SLEEP_STUDY_DATETIME'].append(min(pat_ss.values))\n",
    "    \n",
    "    fs_time = pd.DataFrame.from_dict(fs_time)\n",
    "    print('number of patients', len(fs_time))\n",
    "    return fs_time\n",
    "\n",
    "def get_date_range(study_pat_id, diag_df, enc_df, med_df, meas_df, proc_df, proc_surg_df):\n",
    "    all_dates = []\n",
    "    for df in [diag_df, enc_df, med_df, meas_df, proc_df, proc_surg_df]:\n",
    "        all_dates += get_df_dates(study_pat_id, df, all_dates)\n",
    "    all_dates = validate_dates(all_dates)\n",
    "    if len(all_dates) == 0:\n",
    "        print(study_pat_id)\n",
    "        return 0, 0\n",
    "    else:\n",
    "        return min(all_dates), max(all_dates)\n",
    "\n",
    "\n",
    "def validate_dates(all_dates):\n",
    "    ndates = []\n",
    "    for date in all_dates:\n",
    "        if (date.year >= 1950) and (date.year <= 2022):\n",
    "            ndates.append(date)\n",
    "    return ndates\n",
    "\n",
    "\n",
    "def get_df_dates(study_pat_id, df, all_dates):\n",
    "    ndf = df[df['STUDY_PAT_ID'] == study_pat_id]\n",
    "    columns = list(ndf)\n",
    "    for col in columns:\n",
    "        if col != 'STUDY_PAT_ID':\n",
    "            all_dates += list(ndf[col])\n",
    "    return all_dates"
   ]
  },
  {
   "cell_type": "code",
   "execution_count": 10,
   "metadata": {},
   "outputs": [
    {
     "name": "stdout",
     "output_type": "stream",
     "text": [
      "number of patients 3673\n",
      "number of patients 3673\n"
     ]
    },
    {
     "name": "stderr",
     "output_type": "stream",
     "text": [
      "/home/harlinl/anaconda3/envs/py3/lib/python3.8/site-packages/IPython/core/interactiveshell.py:3338: DtypeWarning: Columns (11) have mixed types.Specify dtype option on import or set low_memory=False.\n",
      "  if (await self.run_code(code, result,  async_=asy)):\n",
      "/home/harlinl/anaconda3/envs/py3/lib/python3.8/site-packages/IPython/core/interactiveshell.py:3338: DtypeWarning: Columns (12,19,20) have mixed types.Specify dtype option on import or set low_memory=False.\n",
      "  if (await self.run_code(code, result,  async_=asy)):\n"
     ]
    },
    {
     "name": "stdout",
     "output_type": "stream",
     "text": [
      "5866\n"
     ]
    }
   ],
   "source": [
    "fs_time = get_first_study()\n",
    "pat_ids = list(fs_time['STUDY_PAT_ID'])\n",
    "print('number of patients', len(pat_ids))\n",
    "\n",
    "diag_df = ss.info.load_health_info('DIAGNOSIS.csv')\n",
    "diag_df = diag_df[['STUDY_PAT_ID', 'DX_START_DATETIME', 'DX_END_DATETIME']]\n",
    "\n",
    "enc_df = ss.info.load_health_info('ENCOUNTER.csv')\n",
    "enc_df = enc_df[['STUDY_PAT_ID', 'ENCOUNTER_DATE', 'VISIT_START_DATETIME', 'VISIT_END_DATETIME',\n",
    "                 'ADT_ARRIVAL_DATETIME', 'ED_DEPARTURE_DATETIME']]\n",
    "\n",
    "med_df = ss.info.load_health_info('MEDICATION.csv')\n",
    "med_df = med_df[['STUDY_PAT_ID', 'MED_START_DATETIME', 'MED_END_DATETIME', 'MED_ORDER_DATETIME',\n",
    "                 'MED_TAKEN_DATETIME']]\n",
    "\n",
    "meas_df = ss.info.load_health_info('MEASUREMENT.csv')\n",
    "meas_df = meas_df[['STUDY_PAT_ID', 'MEAS_RECORDED_DATETIME']]\n",
    "\n",
    "proc_df = ss.info.load_health_info('PROCEDURE.csv')\n",
    "proc_df = proc_df[['STUDY_PAT_ID', 'PROCEDURE_DATETIME']]\n",
    "\n",
    "proc_surg_df = ss.info.load_health_info('PROCEDURE_SURG_HX.csv')\n",
    "proc_surg_df = proc_surg_df[['STUDY_PAT_ID', 'PROC_NOTED_DATE', 'PROC_START_TIME', 'PROC_END_TIME']]\n",
    "\n",
    "patient_care = {'STUDY_PAT_ID': [], 'EARLIEST_CARE': [], 'MOST_RECENT_CARE': [], 'FIRST_SLEEP_STUDY_DATETIME': []}\n",
    "for study_pat_id in pat_ids:\n",
    "    min_date, max_date = get_date_range(study_pat_id, diag_df, enc_df, med_df, meas_df, proc_df, proc_surg_df)\n",
    "\n",
    "    patient_care['STUDY_PAT_ID'].append(study_pat_id)\n",
    "\n",
    "    ss_date = fs_time[fs_time['STUDY_PAT_ID']==study_pat_id]\n",
    "    ss_date = ss_date['FIRST_SLEEP_STUDY_DATETIME'].values[0]\n",
    "    patient_care['FIRST_SLEEP_STUDY_DATETIME'].append(ss_date)\n",
    "\n",
    "    if min_date:\n",
    "        patient_care['EARLIEST_CARE'].append(min_date)\n",
    "        patient_care['MOST_RECENT_CARE'].append(max_date)\n",
    "    else:\n",
    "        patient_care['EARLIEST_CARE'].append(ss_date)\n",
    "        patient_care['MOST_RECENT_CARE'].append(ss_date)            \n",
    "\n",
    "out_fp = 'patient_care_range.csv'\n",
    "pc_df = pd.DataFrame(patient_care, columns=['STUDY_PAT_ID', 'EARLIEST_CARE', 'MOST_RECENT_CARE', 'FIRST_SLEEP_STUDY_DATETIME'])\n",
    "pc_df.to_csv(out_fp, index=False)"
   ]
  },
  {
   "cell_type": "code",
   "execution_count": 11,
   "metadata": {},
   "outputs": [
    {
     "name": "stdout",
     "output_type": "stream",
     "text": [
      "Here are the patients with pre-sleep-study length of care < 30 days\n",
      "      STUDY_PAT_ID EARLIEST_CARE    MOST_RECENT_CARE  \\\n",
      "50              91    2017-08-10 2019-09-03 00:00:00   \n",
      "68             127    2018-02-28 2018-09-11 00:00:00   \n",
      "102           8389    2019-07-01 2019-10-27 00:00:00   \n",
      "126            238    2018-12-14 2020-03-11 23:59:00   \n",
      "194           8581    2019-05-24 2019-10-12 00:00:00   \n",
      "...            ...           ...                 ...   \n",
      "3579          7909    2018-03-22 2018-04-25 00:00:00   \n",
      "3581         16105    2019-10-19 2020-03-02 00:00:00   \n",
      "3594          7945    2018-09-28 2019-05-11 19:05:00   \n",
      "3615          8011    2019-06-16 2019-08-20 23:59:00   \n",
      "3624         16225    2019-06-24 2021-03-19 00:37:00   \n",
      "\n",
      "     FIRST_SLEEP_STUDY_DATETIME  LENGTH_CARE_BEFORE_DAYS  \n",
      "50          2017-09-05 19:55:45                       26  \n",
      "68          2018-03-22 18:41:13                       22  \n",
      "102         2019-07-12 08:48:14                       11  \n",
      "126         2018-12-19 08:06:21                        5  \n",
      "194         2019-06-02 20:23:19                        9  \n",
      "...                         ...                      ...  \n",
      "3579        2018-04-06 21:48:25                       15  \n",
      "3581        2019-11-04 18:53:04                       16  \n",
      "3594        2018-09-30 20:12:30                        2  \n",
      "3615        2019-06-23 20:45:47                        7  \n",
      "3624        2019-07-05 19:52:54                       11  \n",
      "\n",
      "[62 rows x 5 columns]\n",
      "\n",
      "not plotting 6 people with less than -25 years\n",
      "not plotting 1 people with more than 1200 days\n"
     ]
    },
    {
     "data": {
      "image/png": "[encoded data removed]",
      "text/plain": [
       "<Figure size 2160x1080 with 2 Axes>"
      ]
     },
     "metadata": {
      "needs_background": "light"
     },
     "output_type": "display_data"
    }
   ],
   "source": [
    "# Note that length of care == 0 can result from bad date fields, or no encounters entered\n",
    "\n",
    "in_fp = os.path.join('patient_care_range.csv')\n",
    "df = pd.read_csv(in_fp)\n",
    "df['EARLIEST_CARE'] = pd.to_datetime(df['EARLIEST_CARE'])\n",
    "df['MOST_RECENT_CARE'] = pd.to_datetime(df['MOST_RECENT_CARE'])\n",
    "df['FIRST_SLEEP_STUDY_DATETIME'] = pd.to_datetime(df['FIRST_SLEEP_STUDY_DATETIME'])\n",
    "\n",
    "fig, axs = plt.subplots(1, 2, figsize=(30,15))\n",
    "\n",
    "time_before = df['FIRST_SLEEP_STUDY_DATETIME'] - df['EARLIEST_CARE']\n",
    "time_after = df['MOST_RECENT_CARE'] - df['FIRST_SLEEP_STUDY_DATETIME']\n",
    "\n",
    "df['LENGTH_CARE_BEFORE_DAYS'] = [day_len.days for day_len in list(time_before)]\n",
    "ndf = df[df['LENGTH_CARE_BEFORE_DAYS'] < 30]\n",
    "print(\"Here are the patients with pre-sleep-study length of care < 30 days\")\n",
    "print(ndf)\n",
    "print()\n",
    "\n",
    "years_before = [day_len.days/365 for day_len in list(time_before)]\n",
    "years_before = np.array([-year for year in years_before])\n",
    "\n",
    "axs[0].hist(years_before, bins=range(-25,0), color='grey', edgecolor='black')\n",
    "axs[0].set_xlabel('Length of care before first sleep study (YEARS)', fontsize = 30)\n",
    "axs[0].set_ylabel('Number of patients', fontsize = 30)\n",
    "axs[0].set_ylim(0, 600)\n",
    "axs[0].tick_params(axis='both', which='major', labelsize=25)\n",
    "print('not plotting', sum(years_before<-25), 'people with less than -25 years' )\n",
    "\n",
    "days_after = np.array([max(day_len.days, 0) for day_len in list(time_after)])\n",
    "\n",
    "axs[1].hist(days_after, bins=range(0, 1240, 40), color='grey', edgecolor='black')\n",
    "axs[1].set_xlabel('Follow up after first sleep study (DAYS)', fontsize = 30)\n",
    "axs[1].set_ylabel('Number of patients', fontsize = 30)\n",
    "axs[1].set_ylim(0, 600)\n",
    "axs[1].tick_params(axis='both', which='major', labelsize=25)\n",
    "print('not plotting', sum(days_after>1200), 'people with more than 1200 days')\n",
    "\n",
    "plt.subplots_adjust(wspace=0.1, hspace=0)\n",
    "plt.savefig('length_of_care_before_after.pdf', bbox_inches = 'tight', pad_inches = 0)\n",
    "plt.show()"
   ]
  },
  {
   "cell_type": "code",
   "execution_count": 12,
   "metadata": {},
   "outputs": [
    {
     "name": "stdout",
     "output_type": "stream",
     "text": [
      "3673 3673 3673\n",
      "max and min follow up days since first sleep study 1237 0\n",
      "mean 316.60931118976316\n",
      "median 289.0\n",
      "more than 1 year 1508\n",
      "more than 2 years 137\n",
      "more than 3 years 2\n",
      "min -49.45205479452055 years\n",
      "less than -30 years 1\n",
      "less than -20 years 21\n",
      "between 90 days and 2 years 2718 73.99945548597876 %\n",
      "between 30 days and 2 years 3074 83.6918050639804 %\n",
      "between 180 days and 2 years 2191 59.65151102640893 %\n"
     ]
    }
   ],
   "source": [
    "print(len(df), len(days_after), len(years_before))\n",
    "print('max and min follow up days since first sleep study', max(days_after), min(days_after))\n",
    "print('mean', np.mean(days_after))\n",
    "print('median', np.median(days_after))\n",
    "print('more than 1 year', sum(days_after>1*365))\n",
    "print('more than 2 years', sum(days_after>2*365))\n",
    "print('more than 3 years', sum(days_after>3*365))\n",
    "print('min', min(years_before), 'years')\n",
    "print('less than -30 years', sum(years_before<-30))\n",
    "print('less than -20 years', sum(years_before<-20))\n",
    "print('between 90 days and 2 years', sum((days_after<2*365) & (days_after>90) ), \n",
    "      sum((days_after<2*365) & (days_after>90) )/len(days_after)*100,'%')\n",
    "print('between 30 days and 2 years', sum((days_after<2*365) & (days_after>30) ), \n",
    "      sum((days_after<2*365) & (days_after>30) )/len(days_after)*100,'%') \n",
    "print('between 180 days and 2 years', sum((days_after<2*365) & (days_after>180) ), \n",
    "      sum((days_after<2*365) & (days_after>180) )/len(days_after)*100,'%')"
   ]
  },
  {
   "cell_type": "code",
   "execution_count": null,
   "metadata": {},
   "outputs": [],
   "source": []
  }
 ],
 "metadata": {
  "kernelspec": {
   "display_name": "Python 3",
   "language": "python",
   "name": "python3"
  },
  "language_info": {
   "codemirror_mode": {
    "name": "ipython",
    "version": 3
   },
   "file_extension": ".py",
   "mimetype": "text/x-python",
   "name": "python",
   "nbconvert_exporter": "python",
   "pygments_lexer": "ipython3",
   "version": "3.8.5"
  }
 },
 "nbformat": 4,
 "nbformat_minor": 4
}
